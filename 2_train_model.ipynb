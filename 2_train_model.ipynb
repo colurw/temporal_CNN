{
 "cells": [
  {
   "cell_type": "markdown",
   "metadata": {},
   "source": [
    "# 2_train_model.ipynb"
   ]
  },
  {
   "cell_type": "code",
   "execution_count": 3,
   "metadata": {},
   "outputs": [
    {
     "name": "stdout",
     "output_type": "stream",
     "text": [
      "WARNING:tensorflow:From c:\\Users\\catie\\AppData\\Local\\Programs\\Python\\Python311\\Lib\\site-packages\\keras\\src\\losses.py:2976: The name tf.losses.sparse_softmax_cross_entropy is deprecated. Please use tf.compat.v1.losses.sparse_softmax_cross_entropy instead.\n",
      "\n"
     ]
    }
   ],
   "source": [
    "import numpy as np\n",
    "from sklearn.model_selection import train_test_split\n",
    "from keras.models import Model\n",
    "from keras.layers import Input\n",
    "from keras.layers import Conv1D\n",
    "from keras.layers import MaxPooling1D\n",
    "from keras.layers import Dense\n",
    "from keras.layers import Flatten\n",
    "from keras.layers import Dropout\n",
    "from keras.layers import concatenate\n",
    "from keras.utils import plot_model\n",
    "from keras import regularizers\n",
    "from keras import losses\n",
    "from keras import callbacks\n",
    "from keras import metrics\n",
    "import keras\n",
    "import pickle\n",
    "import matplotlib.pyplot as plt\n",
    "from sklearn.metrics import precision_recall_curve"
   ]
  },
  {
   "cell_type": "markdown",
   "metadata": {},
   "source": [
    "## Load Data"
   ]
  },
  {
   "cell_type": "code",
   "execution_count": 5,
   "metadata": {},
   "outputs": [],
   "source": [
    "with open('data/all_data.pkl', 'rb') as file:\n",
    "    price_series, time_categories, up_targets, dn_targets = pickle.load(file) \n",
    "\n",
    "timesteps = price_series.shape[1]\n",
    "channels = price_series.shape[2]\n",
    "time_dim = time_categories.shape[1]"
   ]
  },
  {
   "cell_type": "markdown",
   "metadata": {},
   "source": [
    "## Split Data"
   ]
  },
  {
   "cell_type": "code",
   "execution_count": 6,
   "metadata": {},
   "outputs": [],
   "source": [
    "RANDOM_SEED = 7\n",
    "TARGETS = dn_targets\n",
    "\n",
    "# Splitting the arrays into train and test sets\n",
    "train_x_price, test_x_price = train_test_split(price_series, test_size=0.2, random_state=RANDOM_SEED)\n",
    "train_x_time, test_x_time = train_test_split(time_categories, test_size=0.2, random_state=RANDOM_SEED)\n",
    "train_y, test_y = train_test_split(TARGETS, test_size=0.2, random_state=RANDOM_SEED)"
   ]
  },
  {
   "cell_type": "markdown",
   "metadata": {},
   "source": [
    "## Define Multimodal Convolutional Network"
   ]
  },
  {
   "cell_type": "code",
   "execution_count": null,
   "metadata": {},
   "outputs": [],
   "source": [
    "FILTERS = 256\n",
    "\n",
    "keras.utils.set_random_seed(7)\n",
    "\n",
    "# convolutional branch\n",
    "input_cnn = Input(shape=(timesteps,channels)) \n",
    "\n",
    "cnn = Conv1D(filters=FILTERS, kernel_size=7, padding='same', \n",
    "             activation='relu', data_format='channels_last',\n",
    "             activity_regularizer=None,\n",
    "             input_shape=(timesteps, channels))(input_cnn)\n",
    "\n",
    "cnn = Conv1D(filters=FILTERS, kernel_size=3, padding='same', \n",
    "             activation='relu', data_format='channels_last', \n",
    "             activity_regularizer=None)(cnn)\n",
    "\n",
    "cnn = Conv1D(filters=FILTERS, kernel_size=2, padding='same', strides=2,      # pooling layer\n",
    "             activation='relu', use_bias=False, data_format='channels_last', \n",
    "             activity_regularizer=None)(cnn)\n",
    "\n",
    "cnn = Conv1D(filters=FILTERS*2, kernel_size=3, padding='same', \n",
    "             activation='relu', data_format='channels_last', \n",
    "             activity_regularizer=None)(cnn)\n",
    "\n",
    "cnn = Conv1D(filters=FILTERS*2, kernel_size=2, padding='same', strides=2,     # pooling layer\n",
    "             activation='relu', use_bias=False, data_format='channels_last',\n",
    "             activity_regularizer=None)(cnn)\n",
    "\n",
    "cnn = Conv1D(filters=FILTERS*4, kernel_size=3, padding='same', \n",
    "             activation='relu', data_format='channels_last', \n",
    "             activity_regularizer=regularizers.L2(0.01))(cnn)\n",
    "\n",
    "cnn = Dropout(0.4)(cnn)\n",
    "cnn = Flatten()(cnn)\n",
    "cnn = Model(inputs=input_cnn, outputs=cnn)\n",
    "\n",
    "# perceptron branch\n",
    "input_mlp = Input(shape=(time_dim,))\n",
    "mlp = Dense(8, activation='relu', \n",
    "            activity_regularizer=regularizers.L2(0.01))(input_mlp)\n",
    "mlp = Model(inputs=input_mlp, outputs=mlp)\n",
    "\n",
    "# join branches\n",
    "combined = concatenate([cnn.output, mlp.output])\n",
    "head = Dense(1024, activation='relu')(combined)\n",
    "head = Dense(512, activation='relu')(head)\n",
    "head = Dense(2, activation='softmax')(head)\n",
    "model = Model(inputs=[cnn.input, mlp.input], outputs=head)\n",
    "\n",
    "model.compile(loss='binary_focal_crossentropy', \n",
    "              optimizer='adam', \n",
    "              metrics=['binary_accuracy'])\n",
    "\n",
    "print(model.summary())\n",
    "\n",
    "plot_model(model, to_file='model_plot.png', \n",
    "                  show_shapes=True, \n",
    "                  show_layer_names=True, \n",
    "                  show_layer_activations=True)"
   ]
  },
  {
   "cell_type": "markdown",
   "metadata": {},
   "source": [
    "## Train And Evaluate Model"
   ]
  },
  {
   "cell_type": "code",
   "execution_count": null,
   "metadata": {},
   "outputs": [],
   "source": [
    "BATCH_SIZE = 512\n",
    "\n",
    "callback = keras.callbacks.EarlyStopping(monitor=\"val_loss\",\n",
    "   \t\t\t\t \t\t\t\t\t \t patience=2,\n",
    "    \t\t\t \t\t\t\t\t  \t verbose=0,\n",
    "\t\t\t\t \t\t\t\t\t\t restore_best_weights=True,)\n",
    "\n",
    "postive_weight = train_y.sum(axis=0)[0] / train_y.sum(axis=0)[1]\n",
    "\n",
    "model.fit(x=[train_x_price, train_x_time], \n",
    "          y=train_y,\n",
    "\t      validation_data=([test_x_price, test_x_time], test_y),\n",
    "\t      epochs=20, \n",
    "          batch_size=BATCH_SIZE, \n",
    "          callbacks=callback,\n",
    "          class_weight = {0: 1,\n",
    "                          1: postive_weight})\n",
    "\n",
    "loss, accuracy = model.evaluate([test_x_price, test_x_time], test_y, batch_size=BATCH_SIZE, verbose=0)\n",
    "print(loss, accuracy)\n",
    "\n",
    "model.save('models/up/cnn4.keras')"
   ]
  },
  {
   "cell_type": "markdown",
   "metadata": {},
   "source": [
    "## Evaluate Precision-Recall Curves"
   ]
  },
  {
   "cell_type": "code",
   "execution_count": 12,
   "metadata": {},
   "outputs": [
    {
     "name": "stdout",
     "output_type": "stream",
     "text": [
      "158/158 [==============================] - 4s 24ms/step\n"
     ]
    },
    {
     "data": {
      "image/png": "[encoded data removed]",
      "text/plain": [
       "<Figure size 640x480 with 1 Axes>"
      ]
     },
     "metadata": {},
     "output_type": "display_data"
    }
   ],
   "source": [
    "model = keras.models.load_model('models/up/cnn4.keras')\n",
    "\n",
    "labels = model.predict([test_x_price, test_x_time])\n",
    "\n",
    "# keep probabilities for the positive outcome only\n",
    "probs = labels[:, 1]\n",
    "y_true = test_y[:, 1]\n",
    "\n",
    "# plot the precision-recall curves\n",
    "precision, recall, thresholds = precision_recall_curve(y_true, probs)\n",
    "no_skill = y_true.sum() / len(test_y)\n",
    "plt.plot([0, 1], [no_skill, no_skill], linestyle='--', label='No Skill')\n",
    "plt.plot(recall, precision, marker='.', label='CNN_dn')\n",
    "plt.xlabel('Recall')\n",
    "plt.ylabel('Precision')\n",
    "plt.legend()\n",
    "plt.show()"
   ]
  },
  {
   "cell_type": "markdown",
   "metadata": {},
   "source": [
    "This shows there are no prediction thresholds where the model is able to unambigously identify the positive class.  Although given the stocastic nature of the data, this isn't surprising.\n",
    "\n",
    "The algorithm does howver show a small predictive ability, although whether its edge outweighs the market's commision rate is unknown.  It should also be noted that 1-hr price charts are particularly noisy, and that longer timeframes can provide more reliable trading signals.\n",
    "\n",
    "Precision vs. recall perhaps isn't the best way of determining sucess.  For example, if a long position is taken, and the market stays flat, the outcome is neutral.  A more useful analysis would compare the confusion between long predictions and short truths, _ie_ when trading capital would be lost.  Although this means remaking the model as a multi-class, rather than binary, classifier.\n",
    "\n",
    "But - The most meaningful measure of success would be to calculate the profit/loss curves for the series of predicted trades at different prediction thresholds..."
   ]
  },
  {
   "cell_type": "markdown",
   "metadata": {},
   "source": [
    "### Notes"
   ]
  },
  {
   "cell_type": "code",
   "execution_count": 27,
   "metadata": {},
   "outputs": [],
   "source": [
    "## add cross validation\n",
    "## pad - most recent edge is important! #\n",
    "## replace maxpooling with dilated kernel to preserve data - geoff hinton #\n",
    "## replace maxpooling with stride = 2 - 'learnable pooling, all-convolution network' #\n",
    "## batch norm on conv layers? #\n",
    "## groups = channels maintains depthwise separation.  Add same multiple of filters?\n",
    "## l2 less sensitive to small changes (noise), l1 blocks some inputs #\n",
    "## layers.DepthwiseConv1D() reduces number of parameters\n",
    "## model.train(sample_weight=) heavier recent samples"
   ]
  }
 ],
 "metadata": {
  "kernelspec": {
   "display_name": "Python 3",
   "language": "python",
   "name": "python3"
  },
  "language_info": {
   "codemirror_mode": {
    "name": "ipython",
    "version": 3
   },
   "file_extension": ".py",
   "mimetype": "text/x-python",
   "name": "python",
   "nbconvert_exporter": "python",
   "pygments_lexer": "ipython3",
   "version": "3.11.0"
  }
 },
 "nbformat": 4,
 "nbformat_minor": 2
}
